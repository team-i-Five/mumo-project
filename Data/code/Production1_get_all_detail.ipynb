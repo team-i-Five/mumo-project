{
 "cells": [
  {
   "cell_type": "markdown",
   "id": "184d13f9-eb21-4f61-9ed9-835f154b3b3e",
   "metadata": {},
   "source": [
    "# `Train` 데이터 전체 추출"
   ]
  },
  {
   "cell_type": "code",
   "execution_count": 1,
   "id": "3db67ab5-fc11-42a1-8651-56e067496a97",
   "metadata": {},
   "outputs": [],
   "source": [
    "from bs4 import BeautifulSoup\n",
    "from tqdm import tqdm\n",
    "import pandas as pd\n",
    "import time\n",
    "import requests\n",
    "import pickle\n"
   ]
  },
  {
   "cell_type": "code",
   "execution_count": 2,
   "id": "3e0f2da4-51e5-45ae-b8b4-8b04dbd40ffe",
   "metadata": {},
   "outputs": [],
   "source": [
    "# id 값 불러오기\n",
    "with open(\"train_musical_id.pkl\", \"rb\") as file:\n",
    "    train = pickle.load(file)"
   ]
  },
  {
   "cell_type": "code",
   "execution_count": 3,
   "id": "54446b18-c720-4486-accd-4a237f1a0c8d",
   "metadata": {},
   "outputs": [
    {
     "data": {
      "text/plain": [
       "20449"
      ]
     },
     "execution_count": 3,
     "metadata": {},
     "output_type": "execute_result"
    }
   ],
   "source": [
    "len(train)"
   ]
  },
  {
   "cell_type": "code",
   "execution_count": 11,
   "id": "fc8d2add-ff0a-4df9-8aaf-4245eff782a1",
   "metadata": {},
   "outputs": [],
   "source": [
    "detail_url = \"http://www.playdb.co.kr/playdb/playdbDetail.asp?sReqPlayno={}\"\n",
    "\n",
    "synopsis_url = \"https://www.playdb.co.kr/playdb/playdbDetail_Content.asp?TabKind=2&PlayNo={}\"\n",
    "# synopsis_url = \"https://www.playdb.co.kr/playdb/playdbDetail_Content.asp?TabKind=2&PlayNo=192992\"\n",
    "\n",
    "# 뮤지컬별 dict 형태로 저장된 데이터를 저장할 리스트 \n",
    "data_list = []"
   ]
  },
  {
   "cell_type": "code",
   "execution_count": 12,
   "id": "84edc0d2-1f1a-46d8-8fad-28aa09ae20e2",
   "metadata": {},
   "outputs": [
    {
     "name": "stderr",
     "output_type": "stream",
     "text": [
      "100%|██████████| 20449/20449 [14:06:47<00:00,  2.48s/it]  \n"
     ]
    }
   ],
   "source": [
    "for i in tqdm(train):\n",
    "    # 세부사항 데이터 url 연결\n",
    "    r1 = requests.get(detail_url.format(i))\n",
    "    # 작품설명, 줄거리 데이터 url 연결\n",
    "    r2 = requests.get(synopsis_url.format(i))\n",
    "\n",
    "    soup1 = BeautifulSoup(r1.text,'html.parser')\n",
    "    soup2 = BeautifulSoup(r2.text,'html.parser')\n",
    "\n",
    "    # 저장될 변수 데이터 Null 값으로 초기화\n",
    "    musical_id = None\n",
    "    title = None\n",
    "    poster = None\n",
    "    genre = None\n",
    "    date = None\n",
    "    location = None\n",
    "    cast = None\n",
    "    age_rating = None\n",
    "    running_time = None\n",
    "    describe = None\n",
    "    synopsis = None\n",
    "\n",
    "    temp ={}\n",
    "    \n",
    "    try:\n",
    "        title = soup1.find(\"span\", class_=\"title\").get_text(strip=True)\n",
    "        poster = soup1.find(\"div\", class_=\"pddetail\").find(\"h2\").find(\"img\").get(\"src\")\n",
    "\n",
    "        if soup1.find(\"img\", alt=\"세부장르\"):\n",
    "            genre = soup1.find(\"img\", alt=\"세부장르\").find_next(\"td\").get_text(strip=True).replace(\"뮤지컬>\", \"\").replace(\"|\",\"\")\n",
    "            \n",
    "            if genre == \"창작창작\":\n",
    "                genre = \"창작\"\n",
    "\n",
    "        if soup1.find(\"img\", alt=\"일시\"):\n",
    "            date = soup1.find(\"img\", alt=\"일시\").find_next(\"td\").get_text(strip=True)\n",
    "\n",
    "        if soup1.find(\"img\", alt=\"장소\"):\n",
    "            location = soup1.find(\"img\", alt=\"장소\").find_next(\"td\").get_text(strip=True)\n",
    "\n",
    "        if soup1.find(\"img\", alt=\"출연\"):\n",
    "            cast = soup1.find(\"img\", alt=\"출연\").find_next(\"td\").get_text(strip=True)\n",
    "\n",
    "        if soup1.find(\"img\", alt=\"관람등급\"):\n",
    "            age_rating = soup1.find(\"img\", alt=\"관람등급\").find_next(\"td\").get_text(strip=True)\n",
    "        \n",
    "        if soup1.find(\"img\", alt=\"관람시간\"):\n",
    "            running_time = soup1.find(\"img\", alt=\"관람시간\").find_next(\"td\").get_text(strip=True)\n",
    "        \n",
    "        # soup2를 통해 decribe, synopsis 가져오기\n",
    "        td_elements = soup2.find_all(\"td\")\n",
    "        \n",
    "        for td_element in td_elements:\n",
    "            # 줄거리 내용에 해당되는 태그 찾기\n",
    "            a_element = td_element.find(\"a\", {\"name\": \"TabSynopsis\"})\n",
    "            if a_element:\n",
    "                synopsis = td_element.find(\"td\", class_=\"news\").get_text(strip=True) \n",
    "\n",
    "            # 줄거리가 아닌 값, 작품 설명\n",
    "            elif td_element.find(\"td\",class_=\"news\"):\n",
    "                describe = td_element.find(\"td\",class_=\"news\").get_text(strip=True)\n",
    "        \n",
    "        temp = {\n",
    "            'musical_id' : i\n",
    "            ,'title': title\n",
    "            ,'poster_url': poster\n",
    "            ,'genre' : genre\n",
    "            ,'date': date\n",
    "            ,'location': location\n",
    "            ,'actors': cast\n",
    "            ,'age_rating' :  age_rating\n",
    "            ,'running_time': running_time\n",
    "            ,'describe': describe\n",
    "            ,'synopsis': synopsis\n",
    "        }\n",
    "    except AttributeError as ae :\n",
    "        print(f\"Expected error : {ae}\")\n",
    "        \n",
    "    except Exception as e:\n",
    "        print(f\"Other error : {e}\")\n",
    "        \n",
    "    data_list.append(temp)\n",
    "    time.sleep(2)\n",
    "\n",
    "df = pd.DataFrame(data_list)\n",
    "\n",
    "df.to_csv(\"./train.csv\", encoding=\"utf-8-sig\", index=False)"
   ]
  },
  {
   "cell_type": "code",
   "execution_count": 17,
   "id": "99f5d8a6-f7c8-4fd9-bd07-1c1ccbbb6e7a",
   "metadata": {},
   "outputs": [],
   "source": [
    "# df"
   ]
  },
  {
   "cell_type": "code",
   "execution_count": null,
   "id": "18d7a38d-8c65-409d-89b0-342d507a74ca",
   "metadata": {},
   "outputs": [],
   "source": []
  },
  {
   "cell_type": "code",
   "execution_count": null,
   "id": "dab2724b-b8ce-4c6c-a4da-8a976b7c5d9d",
   "metadata": {},
   "outputs": [],
   "source": []
  },
  {
   "cell_type": "markdown",
   "id": "d04ac297-28b0-4aaa-9ee0-195cbb34c201",
   "metadata": {},
   "source": [
    "## `Present, Future` 데이터 와 `train` 데이터 중복 제거"
   ]
  },
  {
   "cell_type": "code",
   "execution_count": 48,
   "id": "4c06abcd-4cb0-4d08-ae31-47d893ada158",
   "metadata": {},
   "outputs": [],
   "source": [
    "# 현재 공연 중인 뮤지컬 id 값 불러오기\n",
    "with open(\"present_musical_id.pkl\", \"rb\") as file:\n",
    "    present = pickle.load(file)"
   ]
  },
  {
   "cell_type": "code",
   "execution_count": 37,
   "id": "9ed93fe1-85e5-4213-a84d-dd4afbd97881",
   "metadata": {},
   "outputs": [
    {
     "data": {
      "text/plain": [
       "90"
      ]
     },
     "execution_count": 37,
     "metadata": {},
     "output_type": "execute_result"
    }
   ],
   "source": [
    "len(present)"
   ]
  },
  {
   "cell_type": "code",
   "execution_count": 44,
   "id": "9ef121b3-8125-4f9a-b2b1-3fc8d1cbf03f",
   "metadata": {},
   "outputs": [],
   "source": [
    "# present 중복 체크 및 삭제\n",
    "\n",
    "for i in present:\n",
    "    if i in train:\n",
    "        print(f\"{i} is duplicated\")\n",
    "        present.remove(i)\n",
    "        print(f\"{i} is removed\")\n"
   ]
  },
  {
   "cell_type": "code",
   "execution_count": 49,
   "id": "10adb783-3b7c-4f6d-b38d-fe25c39b7981",
   "metadata": {},
   "outputs": [
    {
     "data": {
      "text/plain": [
       "86"
      ]
     },
     "execution_count": 49,
     "metadata": {},
     "output_type": "execute_result"
    }
   ],
   "source": [
    "len(present)"
   ]
  },
  {
   "cell_type": "code",
   "execution_count": 47,
   "id": "d22c99f7-b58d-49be-93fe-d600099d53ab",
   "metadata": {},
   "outputs": [],
   "source": [
    "# present 재저장\n",
    "with open(\"present_musical_id.pkl\", \"wb\") as file:\n",
    "    pickle.dump(present, file)"
   ]
  },
  {
   "cell_type": "code",
   "execution_count": null,
   "id": "b8117711-4665-40c4-948d-c5b72d77770a",
   "metadata": {},
   "outputs": [],
   "source": []
  },
  {
   "cell_type": "code",
   "execution_count": null,
   "id": "0e458de7-1ff3-4753-8399-4013df1d53d6",
   "metadata": {},
   "outputs": [],
   "source": []
  },
  {
   "cell_type": "code",
   "execution_count": 50,
   "id": "c18635a8-2710-4f6f-956d-2023404c0e75",
   "metadata": {},
   "outputs": [],
   "source": [
    "# 공연 예정 id 값 불러오기\n",
    "with open(\"future_musical_id.pkl\", \"rb\") as file:\n",
    "    future = pickle.load(file)"
   ]
  },
  {
   "cell_type": "code",
   "execution_count": 51,
   "id": "d0418d60-9c45-4392-a31d-b566e50ea4ea",
   "metadata": {},
   "outputs": [
    {
     "data": {
      "text/plain": [
       "396"
      ]
     },
     "execution_count": 51,
     "metadata": {},
     "output_type": "execute_result"
    }
   ],
   "source": [
    "len(future)"
   ]
  },
  {
   "cell_type": "code",
   "execution_count": 55,
   "id": "48f23c8c-4c0b-4a00-ab8d-d7c3dffecce7",
   "metadata": {},
   "outputs": [],
   "source": [
    "# future 중복 체크 및 삭제 - with train\n",
    "\n",
    "for i in future:\n",
    "    if i in train:\n",
    "        print(f\"{i} is duplicated\")\n",
    "        present.remove(i)\n",
    "        print(f\"{i} is removed\")\n"
   ]
  },
  {
   "cell_type": "code",
   "execution_count": 57,
   "id": "6e4096e0-1035-40a1-bb46-b8c8c22c2970",
   "metadata": {},
   "outputs": [],
   "source": [
    "# future 중복 체크 및 삭제 - with present\n",
    "\n",
    "for i in future:\n",
    "    if i in present:\n",
    "        print(f\"{i} is duplicated\")\n",
    "        # present.remove(i)\n",
    "        # print(f\"{i} is removed\")\n"
   ]
  },
  {
   "cell_type": "markdown",
   "id": "359f9593-a536-4402-b5ef-43e8cbb31f39",
   "metadata": {},
   "source": [
    "- future은 중복값이 없으므로 그대로 유지"
   ]
  },
  {
   "cell_type": "code",
   "execution_count": null,
   "id": "c7b2dee1-df7c-4ae4-8028-1f690ad1f171",
   "metadata": {},
   "outputs": [],
   "source": []
  },
  {
   "cell_type": "code",
   "execution_count": null,
   "id": "55775f58-28e7-45a0-b41a-7d6bf50b9210",
   "metadata": {},
   "outputs": [],
   "source": []
  },
  {
   "cell_type": "markdown",
   "id": "971e675f-5a6b-4425-9e91-bd92e38f477d",
   "metadata": {},
   "source": [
    "# `Present` 데이터 전체 추출 - 현재 공연 중인 뮤지컬"
   ]
  },
  {
   "cell_type": "code",
   "execution_count": 60,
   "id": "cb0742d9-1cff-4465-987a-425d0c268389",
   "metadata": {},
   "outputs": [],
   "source": [
    "# 현재 공연 중인 뮤지컬 id 값 불러오기\n",
    "with open(\"present_musical_id.pkl\", \"rb\") as file:\n",
    "    present = pickle.load(file)"
   ]
  },
  {
   "cell_type": "code",
   "execution_count": 61,
   "id": "1c118d79-d267-41f7-bd35-025f3e60d308",
   "metadata": {},
   "outputs": [
    {
     "data": {
      "text/plain": [
       "86"
      ]
     },
     "execution_count": 61,
     "metadata": {},
     "output_type": "execute_result"
    }
   ],
   "source": [
    "len(present)"
   ]
  },
  {
   "cell_type": "code",
   "execution_count": 63,
   "id": "768c1e4a-8884-431d-9f05-c74169b6c6cc",
   "metadata": {},
   "outputs": [],
   "source": [
    "detail_url = \"http://www.playdb.co.kr/playdb/playdbDetail.asp?sReqPlayno={}\"\n",
    "\n",
    "synopsis_url = \"https://www.playdb.co.kr/playdb/playdbDetail_Content.asp?TabKind=2&PlayNo={}\"\n",
    "# synopsis_url = \"https://www.playdb.co.kr/playdb/playdbDetail_Content.asp?TabKind=2&PlayNo=192992\"\n",
    "\n",
    "# 뮤지컬별 dict 형태로 저장된 데이터를 저장할 리스트 \n",
    "present_data_list = []"
   ]
  },
  {
   "cell_type": "code",
   "execution_count": 65,
   "id": "42836732-612a-402c-982e-861cbebe69c6",
   "metadata": {},
   "outputs": [
    {
     "name": "stderr",
     "output_type": "stream",
     "text": [
      "100%|██████████| 86/86 [03:34<00:00,  2.50s/it]\n"
     ]
    }
   ],
   "source": [
    "for i in tqdm(present):\n",
    "    # 세부사항 데이터 url 연결\n",
    "    r1 = requests.get(detail_url.format(i))\n",
    "    # 작품설명, 줄거리 데이터 url 연결\n",
    "    r2 = requests.get(synopsis_url.format(i))\n",
    "\n",
    "    soup1 = BeautifulSoup(r1.text,'html.parser')\n",
    "    soup2 = BeautifulSoup(r2.text,'html.parser')\n",
    "\n",
    "    # 저장될 변수 데이터 Null 값으로 초기화\n",
    "    musical_id = None\n",
    "    title = None\n",
    "    poster = None\n",
    "    genre = None\n",
    "    date = None\n",
    "    location = None\n",
    "    cast = None\n",
    "    age_rating = None\n",
    "    running_time = None\n",
    "    describe = None\n",
    "    synopsis = None\n",
    "\n",
    "    temp ={}\n",
    "    \n",
    "    try:\n",
    "        title = soup1.find(\"span\", class_=\"title\").get_text(strip=True)\n",
    "        poster = soup1.find(\"div\", class_=\"pddetail\").find(\"h2\").find(\"img\").get(\"src\")\n",
    "\n",
    "        if soup1.find(\"img\", alt=\"세부장르\"):\n",
    "            genre = soup1.find(\"img\", alt=\"세부장르\").find_next(\"td\").get_text(strip=True).replace(\"뮤지컬>\", \"\").replace(\"|\",\"\")\n",
    "            \n",
    "            if genre == \"창작창작\":\n",
    "                genre = \"창작\"\n",
    "\n",
    "        if soup1.find(\"img\", alt=\"일시\"):\n",
    "            date = soup1.find(\"img\", alt=\"일시\").find_next(\"td\").get_text(strip=True)\n",
    "\n",
    "        if soup1.find(\"img\", alt=\"장소\"):\n",
    "            location = soup1.find(\"img\", alt=\"장소\").find_next(\"td\").get_text(strip=True)\n",
    "\n",
    "        if soup1.find(\"img\", alt=\"출연\"):\n",
    "            cast = soup1.find(\"img\", alt=\"출연\").find_next(\"td\").get_text(strip=True)\n",
    "\n",
    "        if soup1.find(\"img\", alt=\"관람등급\"):\n",
    "            age_rating = soup1.find(\"img\", alt=\"관람등급\").find_next(\"td\").get_text(strip=True)\n",
    "        \n",
    "        if soup1.find(\"img\", alt=\"관람시간\"):\n",
    "            running_time = soup1.find(\"img\", alt=\"관람시간\").find_next(\"td\").get_text(strip=True)\n",
    "        \n",
    "        # soup2를 통해 decribe, synopsis 가져오기\n",
    "        td_elements = soup2.find_all(\"td\")\n",
    "        \n",
    "        for td_element in td_elements:\n",
    "            # 줄거리 내용에 해당되는 태그 찾기\n",
    "            a_element = td_element.find(\"a\", {\"name\": \"TabSynopsis\"})\n",
    "            if a_element:\n",
    "                synopsis = td_element.find(\"td\", class_=\"news\").get_text(strip=True) \n",
    "\n",
    "            # 줄거리가 아닌 값, 작품 설명\n",
    "            elif td_element.find(\"td\",class_=\"news\"):\n",
    "                describe = td_element.find(\"td\",class_=\"news\").get_text(strip=True)\n",
    "        \n",
    "        temp = {\n",
    "            'musical_id' : i\n",
    "            ,'title': title\n",
    "            ,'poster_url': poster\n",
    "            ,'genre' : genre\n",
    "            ,'date': date\n",
    "            ,'location': location\n",
    "            ,'actors': cast\n",
    "            ,'age_rating' :  age_rating\n",
    "            ,'running_time': running_time\n",
    "            ,'describe': describe\n",
    "            ,'synopsis': synopsis\n",
    "        }\n",
    "    except AttributeError as ae :\n",
    "        print(f\"Expected error : {ae}\")\n",
    "        \n",
    "    except Exception as e:\n",
    "        print(f\"Other error : {e}\")\n",
    "        \n",
    "    present_data_list.append(temp)\n",
    "    time.sleep(2)\n",
    "\n",
    "df = pd.DataFrame(present_data_list)\n",
    "\n",
    "df.to_csv(\"./present.csv\", encoding=\"utf-8-sig\", index=False)"
   ]
  },
  {
   "cell_type": "code",
   "execution_count": null,
   "id": "3b460af7-445e-493c-bebe-2dbd588d3137",
   "metadata": {},
   "outputs": [],
   "source": []
  },
  {
   "cell_type": "code",
   "execution_count": null,
   "id": "e484dc36-311d-4d5d-bb5f-c68718591df6",
   "metadata": {},
   "outputs": [],
   "source": []
  },
  {
   "cell_type": "markdown",
   "id": "0f3d8840-d8fe-4d81-812a-3fc738b71d9d",
   "metadata": {},
   "source": [
    "# `Future` 데이터 추출 - 공연 예정인 뮤지컬"
   ]
  },
  {
   "cell_type": "code",
   "execution_count": 66,
   "id": "7f777085-1fc2-43f5-bd89-29738f2ea288",
   "metadata": {},
   "outputs": [],
   "source": [
    "# 공연 예정 id 값 불러오기\n",
    "with open(\"future_musical_id.pkl\", \"rb\") as file:\n",
    "    future = pickle.load(file)"
   ]
  },
  {
   "cell_type": "code",
   "execution_count": 67,
   "id": "d75f5231-07ad-4c06-b814-4942b3b35c8a",
   "metadata": {},
   "outputs": [
    {
     "data": {
      "text/plain": [
       "396"
      ]
     },
     "execution_count": 67,
     "metadata": {},
     "output_type": "execute_result"
    }
   ],
   "source": [
    "len(future)"
   ]
  },
  {
   "cell_type": "code",
   "execution_count": 68,
   "id": "c2f16e12-9a24-47b7-85e1-43d34c4ae1c1",
   "metadata": {},
   "outputs": [],
   "source": [
    "detail_url = \"http://www.playdb.co.kr/playdb/playdbDetail.asp?sReqPlayno={}\"\n",
    "\n",
    "synopsis_url = \"https://www.playdb.co.kr/playdb/playdbDetail_Content.asp?TabKind=2&PlayNo={}\"\n",
    "# synopsis_url = \"https://www.playdb.co.kr/playdb/playdbDetail_Content.asp?TabKind=2&PlayNo=192992\"\n",
    "\n",
    "# 뮤지컬별 dict 형태로 저장된 데이터를 저장할 리스트 \n",
    "future_data_list = []"
   ]
  },
  {
   "cell_type": "code",
   "execution_count": 69,
   "id": "982360cd-e9e8-4e13-819d-fe8b910124e4",
   "metadata": {},
   "outputs": [
    {
     "name": "stderr",
     "output_type": "stream",
     "text": [
      "100%|██████████| 396/396 [16:23<00:00,  2.48s/it]\n"
     ]
    }
   ],
   "source": [
    "for i in tqdm(future):\n",
    "    # 세부사항 데이터 url 연결\n",
    "    r1 = requests.get(detail_url.format(i))\n",
    "    # 작품설명, 줄거리 데이터 url 연결\n",
    "    r2 = requests.get(synopsis_url.format(i))\n",
    "\n",
    "    soup1 = BeautifulSoup(r1.text,'html.parser')\n",
    "    soup2 = BeautifulSoup(r2.text,'html.parser')\n",
    "\n",
    "    # 저장될 변수 데이터 Null 값으로 초기화\n",
    "    musical_id = None\n",
    "    title = None\n",
    "    poster = None\n",
    "    genre = None\n",
    "    date = None\n",
    "    location = None\n",
    "    cast = None\n",
    "    age_rating = None\n",
    "    running_time = None\n",
    "    describe = None\n",
    "    synopsis = None\n",
    "\n",
    "    temp ={}\n",
    "    \n",
    "    try:\n",
    "        title = soup1.find(\"span\", class_=\"title\").get_text(strip=True)\n",
    "        poster = soup1.find(\"div\", class_=\"pddetail\").find(\"h2\").find(\"img\").get(\"src\")\n",
    "\n",
    "        if soup1.find(\"img\", alt=\"세부장르\"):\n",
    "            genre = soup1.find(\"img\", alt=\"세부장르\").find_next(\"td\").get_text(strip=True).replace(\"뮤지컬>\", \"\").replace(\"|\",\"\")\n",
    "            \n",
    "            if genre == \"창작창작\":\n",
    "                genre = \"창작\"\n",
    "\n",
    "        if soup1.find(\"img\", alt=\"일시\"):\n",
    "            date = soup1.find(\"img\", alt=\"일시\").find_next(\"td\").get_text(strip=True)\n",
    "\n",
    "        if soup1.find(\"img\", alt=\"장소\"):\n",
    "            location = soup1.find(\"img\", alt=\"장소\").find_next(\"td\").get_text(strip=True)\n",
    "\n",
    "        if soup1.find(\"img\", alt=\"출연\"):\n",
    "            cast = soup1.find(\"img\", alt=\"출연\").find_next(\"td\").get_text(strip=True)\n",
    "\n",
    "        if soup1.find(\"img\", alt=\"관람등급\"):\n",
    "            age_rating = soup1.find(\"img\", alt=\"관람등급\").find_next(\"td\").get_text(strip=True)\n",
    "        \n",
    "        if soup1.find(\"img\", alt=\"관람시간\"):\n",
    "            running_time = soup1.find(\"img\", alt=\"관람시간\").find_next(\"td\").get_text(strip=True)\n",
    "        \n",
    "        # soup2를 통해 decribe, synopsis 가져오기\n",
    "        td_elements = soup2.find_all(\"td\")\n",
    "        \n",
    "        for td_element in td_elements:\n",
    "            # 줄거리 내용에 해당되는 태그 찾기\n",
    "            a_element = td_element.find(\"a\", {\"name\": \"TabSynopsis\"})\n",
    "            if a_element:\n",
    "                synopsis = td_element.find(\"td\", class_=\"news\").get_text(strip=True) \n",
    "\n",
    "            # 줄거리가 아닌 값, 작품 설명\n",
    "            elif td_element.find(\"td\",class_=\"news\"):\n",
    "                describe = td_element.find(\"td\",class_=\"news\").get_text(strip=True)\n",
    "        \n",
    "        temp = {\n",
    "            'musical_id' : i\n",
    "            ,'title': title\n",
    "            ,'poster_url': poster\n",
    "            ,'genre' : genre\n",
    "            ,'date': date\n",
    "            ,'location': location\n",
    "            ,'actors': cast\n",
    "            ,'age_rating' :  age_rating\n",
    "            ,'running_time': running_time\n",
    "            ,'describe': describe\n",
    "            ,'synopsis': synopsis\n",
    "        }\n",
    "    except AttributeError as ae :\n",
    "        print(f\"Expected error : {ae}\")\n",
    "        \n",
    "    except Exception as e:\n",
    "        print(f\"Other error : {e}\")\n",
    "        \n",
    "    future_data_list.append(temp)\n",
    "    time.sleep(2)\n",
    "\n",
    "df = pd.DataFrame(future_data_list)\n",
    "\n",
    "df.to_csv(\"./future.csv\", encoding=\"utf-8-sig\", index=False)"
   ]
  },
  {
   "cell_type": "code",
   "execution_count": null,
   "id": "0e8a35a3-4357-44bd-a9bf-d8c2b2e6ef89",
   "metadata": {},
   "outputs": [],
   "source": []
  }
 ],
 "metadata": {
  "kernelspec": {
   "display_name": "Python 3 (ipykernel)",
   "language": "python",
   "name": "python3"
  },
  "language_info": {
   "codemirror_mode": {
    "name": "ipython",
    "version": 3
   },
   "file_extension": ".py",
   "mimetype": "text/x-python",
   "name": "python",
   "nbconvert_exporter": "python",
   "pygments_lexer": "ipython3",
   "version": "3.12.0"
  }
 },
 "nbformat": 4,
 "nbformat_minor": 5
}
